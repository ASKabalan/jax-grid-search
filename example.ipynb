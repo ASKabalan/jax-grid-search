{
 "cells": [
  {
   "cell_type": "code",
   "execution_count": 1,
   "metadata": {},
   "outputs": [],
   "source": [
    "import jax\n",
    "import jax.numpy as jnp\n",
    "from jax_grid_search import DistributedGridSearch"
   ]
  },
  {
   "cell_type": "code",
   "execution_count": 25,
   "metadata": {},
   "outputs": [
    {
     "name": "stdout",
     "output_type": "stream",
     "text": [
      "Selecting batch size of 25\n",
      "log_interval: 40\n"
     ]
    },
    {
     "name": "stderr",
     "output_type": "stream",
     "text": [
      "\n"
     ]
    },
    {
     "name": "stderr",
     "output_type": "stream",
     "text": [
      "Processing batches: 100%|██████████| 400/400 [00:16<00:00, 24.53it/s]\n"
     ]
    },
    {
     "name": "stdout",
     "output_type": "stream",
     "text": [
      "Done .. Stacking the results\n"
     ]
    }
   ],
   "source": [
    "def objective_function(x , y , z , w):\n",
    "    value =  x**2 + y**2 + z**2 - w**2\n",
    "    value = value.sum()\n",
    "    return {\"value\": value, \"result\": x*y}\n",
    "\n",
    "search_space = {\"x\": jax.random.normal(jax.random.PRNGKey(0), shape=(10,2)),\n",
    "                \"y\": jax.random.normal(jax.random.PRNGKey(1), shape=(10,2)),\n",
    "                \"z\": jax.random.normal(jax.random.PRNGKey(2), shape=(10,2)),\n",
    "                \"w\": jax.random.normal(jax.random.PRNGKey(3), shape=(10,2)),\n",
    "}\n",
    "\n",
    "\n",
    "grid_search = DistributedGridSearch(\n",
    "    objective_function, search_space, batch_size=25, progress_bar=True, log_every=0.1\n",
    ")\n",
    "\n",
    "\n",
    "results = grid_search.run()\n"
   ]
  },
  {
   "cell_type": "code",
   "execution_count": 29,
   "metadata": {},
   "outputs": [
    {
     "data": {
      "text/plain": [
       "({'value': Array(-4.0347776, dtype=float32),\n",
       "  'result': Array([0.12537731, 0.011271  ], dtype=float32)},\n",
       " Array(-4.0347776, dtype=float32))"
      ]
     },
     "execution_count": 29,
     "metadata": {},
     "output_type": "execute_result"
    }
   ],
   "source": [
    "best_x = results[\"x\"][0]\n",
    "best_y = results[\"y\"][0]\n",
    "best_z = results[\"z\"][0]\n",
    "best_w = results[\"w\"][0]\n",
    "best_value = results[\"value\"][0]\n",
    "\n",
    "objective_function(x=best_x, y=best_y, z=best_z, w=best_w) , best_value"
   ]
  },
  {
   "cell_type": "code",
   "execution_count": 30,
   "metadata": {},
   "outputs": [
    {
     "data": {
      "text/plain": [
       "Array([-0.5946021 , -0.03188572], dtype=float32)"
      ]
     },
     "execution_count": 30,
     "metadata": {},
     "output_type": "execute_result"
    }
   ],
   "source": [
    "best_x"
   ]
  },
  {
   "cell_type": "code",
   "execution_count": 31,
   "metadata": {},
   "outputs": [
    {
     "data": {
      "text/plain": [
       "Array([0.12537731, 0.011271  ], dtype=float32)"
      ]
     },
     "execution_count": 31,
     "metadata": {},
     "output_type": "execute_result"
    }
   ],
   "source": [
    "best_x * best_y"
   ]
  }
 ],
 "metadata": {
  "kernelspec": {
   "display_name": "Python 3",
   "language": "python",
   "name": "python3"
  },
  "language_info": {
   "codemirror_mode": {
    "name": "ipython",
    "version": 3
   },
   "file_extension": ".py",
   "mimetype": "text/x-python",
   "name": "python",
   "nbconvert_exporter": "python",
   "pygments_lexer": "ipython3",
   "version": "3.11.11"
  }
 },
 "nbformat": 4,
 "nbformat_minor": 2
}
