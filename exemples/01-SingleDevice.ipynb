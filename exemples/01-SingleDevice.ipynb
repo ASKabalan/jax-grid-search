{
 "cells": [
  {
   "cell_type": "markdown",
   "metadata": {},
   "source": [
    "### Running JAX Grid Search on a single device\n",
    "\n",
    "<a href=\"https://colab.research.google.com/github/ASKabalan/jax-grid-search/blob/main/exemples/01-SingleDevice.ipynb\" target=\"_parent\"><img src=\"https://colab.research.google.com/assets/colab-badge.svg\" alt=\"Open In Colab\"/></a>\n"
   ]
  },
  {
   "cell_type": "code",
   "execution_count": 1,
   "metadata": {},
   "outputs": [],
   "source": [
    "%load_ext autoreload\n",
    "%autoreload 2\n",
    "import jax\n",
    "import jax.numpy as jnp\n",
    "from jax_grid_search import DistributedGridSearch"
   ]
  },
  {
   "cell_type": "markdown",
   "metadata": {},
   "source": [
    "### Defining the Objective Function\n",
    "The objective function is evaluated for each combination of input parameters. It calculates a scalar `value` based on the given mathematical formula.\n",
    "\n",
    "### Performing the Grid Search\n",
    "The `DistributedGridSearch` class is used to systematically evaluate the objective function over a predefined search space. Each parameter in the search space is assigned a set of potential values, and the grid search explores all possible combinations.\n",
    "\n",
    "### Running the Grid Search\n",
    "The grid search iterates over the search space in batches, evaluating the objective function for each combination of parameters."
   ]
  },
  {
   "cell_type": "code",
   "execution_count": 3,
   "metadata": {},
   "outputs": [
    {
     "name": "stdout",
     "output_type": "stream",
     "text": [
      "Selecting batch size of 8\n"
     ]
    },
    {
     "name": "stderr",
     "output_type": "stream",
     "text": [
      "Processing batches: 100%|██████████| 2/2 [00:00<00:00,  2.98it/s]\n"
     ]
    }
   ],
   "source": [
    "def objective_function(x , y , z , w):\n",
    "    value =  x**2 + y**2 + z**2 - w**2\n",
    "    value = value.sum()\n",
    "    return {\"value\": value}\n",
    "\n",
    "search_space = {\"x\": jnp.arange(2*2).reshape(2,2),\n",
    "                \"y\": jnp.arange(2*2).reshape(2,2),\n",
    "                \"z\": jnp.arange(2*2).reshape(2,2),\n",
    "                \"w\": jnp.arange(2*2).reshape(2,2),\n",
    "}\n",
    "\n",
    "\n",
    "grid_search = DistributedGridSearch(\n",
    "    objective_function, search_space, batch_size=8, progress_bar=True, log_every=0.1\n",
    ")\n",
    "\n",
    "\n",
    "grid_search.run()"
   ]
  },
  {
   "cell_type": "markdown",
   "metadata": {},
   "source": [
    "### Saving Results\n",
    "During the execution of the grid search, the `.run()` method saves the results of each processed batch into individual `.pkl` files inside the `results` folder. This ensures that intermediate data is preserved and can be accessed later."
   ]
  },
  {
   "cell_type": "code",
   "execution_count": 4,
   "metadata": {},
   "outputs": [
    {
     "name": "stdout",
     "output_type": "stream",
     "text": [
      "Result files: ['results/result_batch_0_rank_0.pkl', 'results/result_batch_1_rank_0.pkl']\n"
     ]
    }
   ],
   "source": [
    "import glob\n",
    "\n",
    "results_folder = \"results\"\n",
    "result_files = glob.glob(f\"{results_folder}/*.pkl\")\n",
    "print(\"Result files:\", result_files)\n"
   ]
  },
  {
   "cell_type": "markdown",
   "metadata": {},
   "source": [
    "### Stacking Results\n",
    "After all batches are processed and saved as `.pkl` files, you can stack the results into a single dictionary for further analysis. This is done using the `.stack_results()` method, which combines the data from all saved files in the specified folder."
   ]
  },
  {
   "cell_type": "code",
   "execution_count": 5,
   "metadata": {},
   "outputs": [],
   "source": [
    "results = grid_search.stack_results('results')"
   ]
  },
  {
   "cell_type": "markdown",
   "metadata": {},
   "source": [
    "### Resuming and Continuing Grid Search\n",
    "You can resume a previous grid search by using the results from earlier runs. Pass the `old_results` parameter when initializing `DistributedGridSearch` to exclude already processed combinations from the search.\n",
    "\n",
    "The total number of combinations remaining can be determined using `len(grid_search.combinations)`."
   ]
  },
  {
   "cell_type": "code",
   "execution_count": 6,
   "metadata": {},
   "outputs": [
    {
     "name": "stdout",
     "output_type": "stream",
     "text": [
      "number of combinations before: 16\n",
      "Selecting batch size of 6\n",
      "number of combinations after adding more to search space: 36\n",
      "Selecting batch size of 5\n",
      "number of combinations after filtering out old results: 20\n"
     ]
    }
   ],
   "source": [
    "print(f\"number of combinations before: {len(grid_search.combinations)}\")\n",
    "search_space = {\"x\": jnp.arange(3*2).reshape(3,2),\n",
    "                \"y\": jnp.arange(3*2).reshape(3,2),\n",
    "                \"z\": jnp.arange(2*2).reshape(2,2),\n",
    "                \"w\": jnp.arange(2*2).reshape(2,2),\n",
    "}\n",
    "\n",
    "grid_search = DistributedGridSearch(\n",
    "    objective_function, search_space, batch_size=8, progress_bar=True, log_every=0.1\n",
    ")\n",
    "\n",
    "print(f\"number of combinations after adding more to search space: {len(grid_search.combinations)}\")\n",
    "\n",
    "grid_search = DistributedGridSearch(\n",
    "    objective_function, search_space, batch_size=8, progress_bar=True, log_every=0.1 , old_results=results\n",
    ")\n",
    "\n",
    "print(f\"number of combinations after filtering out old results: {len(grid_search.combinations)}\")\n"
   ]
  },
  {
   "cell_type": "markdown",
   "metadata": {},
   "source": [
    "### Resuming the Grid Search\n",
    "When resuming the grid search, the `DistributedGridSearch` automatically filters out combinations already processed using `old_results`. \n",
    "\n",
    "In this example:\n",
    "- Only 20 combinations remain to be evaluated.\n",
    "- The `batch_size` is adjusted from 8 to 5 to ensure it divides the remaining combinations evenly.\n",
    "\n",
    "If we attempt to resume the search after completing these 20 combinations, the number of remaining combinations will be 0, and no further processing will occur."
   ]
  },
  {
   "cell_type": "code",
   "execution_count": 8,
   "metadata": {},
   "outputs": [
    {
     "name": "stderr",
     "output_type": "stream",
     "text": [
      "Processing batches:   0%|          | 0/4 [00:00<?, ?it/s]"
     ]
    },
    {
     "name": "stderr",
     "output_type": "stream",
     "text": [
      "Processing batches: 100%|██████████| 4/4 [00:00<00:00, 38.68it/s]"
     ]
    },
    {
     "name": "stdout",
     "output_type": "stream",
     "text": [
      "Selecting batch size of 0\n",
      "number of combinations after filtering out old results: 0\n"
     ]
    },
    {
     "name": "stderr",
     "output_type": "stream",
     "text": [
      "\n"
     ]
    }
   ],
   "source": [
    "grid_search.run()\n",
    "full_results = grid_search.stack_results('results')\n",
    "\n",
    "grid_search = DistributedGridSearch(\n",
    "    objective_function, search_space, batch_size=8, progress_bar=True, log_every=0.1 , old_results=full_results\n",
    ")\n",
    "\n",
    "print(f\"number of combinations after filtering out old results: {len(grid_search.combinations)}\")"
   ]
  },
  {
   "cell_type": "markdown",
   "metadata": {},
   "source": [
    "### Visualizing Results\n",
    "To analyze the results, we start by fixing specific values for `w`, `z`, and `y`. This allows us to study the relationship between `x` and the corresponding `value` when other parameters are held constant. \n",
    "\n",
    "The filtered data is then plotted, with `x` on the x-axis and `value` on the y-axis, giving a clear view of how `x` influences the objective function under these conditions."
   ]
  },
  {
   "cell_type": "code",
   "execution_count": 11,
   "metadata": {},
   "outputs": [
    {
     "data": {
      "image/png": "[encoded data removed]",
      "text/plain": [
       "<Figure size 800x600 with 1 Axes>"
      ]
     },
     "metadata": {},
     "output_type": "display_data"
    }
   ],
   "source": [
    "import matplotlib.pyplot as plt\n",
    "results = grid_search.stack_results('results')\n",
    "\n",
    "# Define fixed values for w, z, and y\n",
    "fixed_w = results[\"w\"][0]  # Take the first value of w\n",
    "fixed_z = results[\"z\"][0]  # Take the first value of z\n",
    "fixed_y = results[\"y\"][0]  # Take the first value of y\n",
    "\n",
    "# Filter the results to match the fixed values\n",
    "mask = (\n",
    "    (results[\"w\"] == fixed_w).all(axis=1) &\n",
    "    (results[\"z\"] == fixed_z).all(axis=1) &\n",
    "    (results[\"y\"] == fixed_y).all(axis=1)\n",
    ")\n",
    "\n",
    "# Extract x and value for the filtered results\n",
    "filtered_x = results[\"x\"][mask]\n",
    "filtered_values = results[\"value\"][mask]\n",
    "\n",
    "# Plot x against value\n",
    "plt.figure(figsize=(8, 6))\n",
    "plt.plot(filtered_x, filtered_values, 'o-', label=f'w={fixed_w}, z={fixed_z}, y={fixed_y}')\n",
    "plt.xlabel('x')\n",
    "plt.ylabel('value')\n",
    "plt.title('x vs value with fixed w, z, y')\n",
    "plt.legend()\n",
    "plt.grid(True)\n",
    "plt.show()\n"
   ]
  },
  {
   "cell_type": "code",
   "execution_count": 12,
   "metadata": {},
   "outputs": [
    {
     "name": "stderr",
     "output_type": "stream",
     "text": [
      "/home/wassim/micromamba/envs/fg/lib/python3.11/pty.py:89: RuntimeWarning: os.fork() was called. os.fork() is incompatible with multithreaded code, and JAX is multithreaded, so this will likely lead to a deadlock.\n",
      "  pid, fd = os.forkpty()\n"
     ]
    }
   ],
   "source": [
    "!rm -r results"
   ]
  },
  {
   "cell_type": "markdown",
   "metadata": {},
   "source": [
    "### Logging Additional Metrics\n",
    "In the `objective_function`, you can compute and return additional values beyond the primary objective. For example, here the auxiliary value (`aux_val`) is calculated as `x + y^2`.\n",
    "\n",
    "After running the grid search, these auxiliary values are accessible in the results. You can log and validate them to ensure correctness. \n",
    "\n",
    "In this example:\n",
    "- The first combination's `aux_val` is printed.\n",
    "- It is explicitly broken down into its components: \\( x + y^2 \\), demonstrating that other metrics can also be logged for deeper analysis."
   ]
  },
  {
   "cell_type": "code",
   "execution_count": null,
   "metadata": {},
   "outputs": [
    {
     "name": "stdout",
     "output_type": "stream",
     "text": [
      "Selecting batch size of 8\n"
     ]
    },
    {
     "name": "stderr",
     "output_type": "stream",
     "text": [
      "Processing batches:   0%|          | 0/2 [00:00<?, ?it/s]"
     ]
    },
    {
     "name": "stderr",
     "output_type": "stream",
     "text": [
      "Processing batches: 100%|██████████| 2/2 [00:00<00:00, 18.96it/s]"
     ]
    },
    {
     "name": "stdout",
     "output_type": "stream",
     "text": [
      "Aux value for the first combination: aux_val = res[0 2] \n",
      "x + y^2 = [0 1] + [0 1]^2 = [0 2]\n"
     ]
    },
    {
     "name": "stderr",
     "output_type": "stream",
     "text": [
      "\n"
     ]
    },
    {
     "ename": "",
     "evalue": "",
     "output_type": "error",
     "traceback": [
      "\u001b[1;31mThe Kernel crashed while executing code in the current cell or a previous cell. \n",
      "\u001b[1;31mPlease review the code in the cell(s) to identify a possible cause of the failure. \n",
      "\u001b[1;31mClick <a href='https://aka.ms/vscodeJupyterKernelCrash'>here</a> for more info. \n",
      "\u001b[1;31mView Jupyter <a href='command:jupyter.viewOutput'>log</a> for further details."
     ]
    }
   ],
   "source": [
    "def objective_function(x , y , z , w):\n",
    "    value =  x**2 + y**2 + z**2 - w**2\n",
    "    value = value.sum()\n",
    "    return {\"value\": value , \"aux_val\" : x + y**2}\n",
    "\n",
    "search_space = {\"x\": jnp.arange(2*2).reshape(2,2),\n",
    "                \"y\": jnp.arange(2*2).reshape(2,2),\n",
    "                \"z\": jnp.arange(2*2).reshape(2,2),\n",
    "                \"w\": jnp.arange(2*2).reshape(2,2),\n",
    "}\n",
    "\n",
    "\n",
    "grid_search = DistributedGridSearch(\n",
    "    objective_function, search_space, batch_size=8, progress_bar=True, log_every=0.1\n",
    ")\n",
    "\n",
    "\n",
    "grid_search.run()\n",
    "results = grid_search.stack_results('results')\n",
    "\n",
    "\n",
    "print(f\"Aux value for the first combination: aux_val = res{results['aux_val'][0]} \\nx + y^2 = {results['x'][0]} + {results['y'][0]}^2 = {results['aux_val'][0]}\")"
   ]
  }
 ],
 "metadata": {
  "kernelspec": {
   "display_name": "Python 3",
   "language": "python",
   "name": "python3"
  },
  "language_info": {
   "codemirror_mode": {
    "name": "ipython",
    "version": 3
   },
   "file_extension": ".py",
   "mimetype": "text/x-python",
   "name": "python",
   "nbconvert_exporter": "python",
   "pygments_lexer": "ipython3",
   "version": "3.11.11"
  }
 },
 "nbformat": 4,
 "nbformat_minor": 2
}
